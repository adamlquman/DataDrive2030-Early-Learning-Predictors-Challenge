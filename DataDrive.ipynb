{
  "nbformat": 4,
  "nbformat_minor": 0,
  "metadata": {
    "colab": {
      "provenance": [],
      "private_outputs": true
    },
    "kernelspec": {
      "name": "python3",
      "display_name": "Python 3"
    },
    "language_info": {
      "name": "python"
    },
    "gpuClass": "standard"
  },
  "cells": [
    {
      "cell_type": "markdown",
      "source": [
        "# DataDrive2030 Early Learning Predictors Challenge Solution\n"
      ],
      "metadata": {
        "id": "P84RqMdGtqrX"
      }
    },
    {
      "cell_type": "markdown",
      "source": [
        "## Import important libararies"
      ],
      "metadata": {
        "id": "1ZaNRBPeuRMk"
      }
    },
    {
      "cell_type": "code",
      "source": [
        "!pip install eli5 -q"
      ],
      "metadata": {
        "id": "k3R8RFomvPLb"
      },
      "execution_count": null,
      "outputs": []
    },
    {
      "cell_type": "code",
      "metadata": {
        "id": "YBArGtJwFzwO"
      },
      "source": [
        "import pandas as pd\n",
        "import numpy as np\n",
        "import eli5\n",
        "import warnings\n",
        "from sklearn.preprocessing import LabelEncoder\n",
        "from sklearn.model_selection import train_test_split\n",
        "from sklearn.metrics import mean_squared_error\n",
        "from sklearn.linear_model import SGDRegressor\n",
        "warnings.filterwarnings('ignore')"
      ],
      "execution_count": null,
      "outputs": []
    },
    {
      "cell_type": "markdown",
      "source": [
        "## Reading files\n"
      ],
      "metadata": {
        "id": "U9Li6DZNubZv"
      }
    },
    {
      "cell_type": "code",
      "metadata": {
        "id": "A1Nlsw9lGHTB"
      },
      "source": [
        "train = pd.read_csv('Train.csv')\n",
        "test = pd.read_csv('Test.csv')\n",
        "ss = pd.read_csv('SampleSubmission.csv')\n",
        "ID=test['child_id']"
      ],
      "execution_count": null,
      "outputs": []
    },
    {
      "cell_type": "markdown",
      "source": [
        "## EDA"
      ],
      "metadata": {
        "id": "aIjfpRueug3f"
      }
    },
    {
      "cell_type": "code",
      "source": [
        "train.shape"
      ],
      "metadata": {
        "id": "4T7h6PCBetav"
      },
      "execution_count": null,
      "outputs": []
    },
    {
      "cell_type": "code",
      "source": [
        "test.shape"
      ],
      "metadata": {
        "id": "mcfn9Jdyewg6"
      },
      "execution_count": null,
      "outputs": []
    },
    {
      "cell_type": "code",
      "source": [
        "train.info()"
      ],
      "metadata": {
        "id": "sIJtjddIeyND"
      },
      "execution_count": null,
      "outputs": []
    },
    {
      "cell_type": "code",
      "source": [
        "test.info()"
      ],
      "metadata": {
        "id": "cNp5SMnJe1Tx"
      },
      "execution_count": null,
      "outputs": []
    },
    {
      "cell_type": "code",
      "metadata": {
        "id": "LRHncK2pHSmR"
      },
      "source": [
        "# Preview train\n",
        "train.head()"
      ],
      "execution_count": null,
      "outputs": []
    },
    {
      "cell_type": "code",
      "metadata": {
        "id": "_4cigp83GcVA"
      },
      "source": [
        "# Preview test\n",
        "test.head()"
      ],
      "execution_count": null,
      "outputs": []
    },
    {
      "cell_type": "code",
      "source": [
        "pd.set_option('display.max_columns',None)\n",
        "train.head()"
      ],
      "metadata": {
        "id": "xoyt1Wn8rdQo"
      },
      "execution_count": null,
      "outputs": []
    },
    {
      "cell_type": "markdown",
      "source": [
        "## Some Feature Engineering Techniques"
      ],
      "metadata": {
        "id": "A8Gx2GlKuthW"
      }
    },
    {
      "cell_type": "code",
      "source": [
        "train.drop(\"child_id\",axis=1,inplace=True)\n",
        "test.drop(\"child_id\",axis=1,inplace=True)"
      ],
      "metadata": {
        "id": "AzdVQ-nnl-J9"
      },
      "execution_count": null,
      "outputs": []
    },
    {
      "cell_type": "code",
      "source": [
        "train=train.select_dtypes('number')\n",
        "test=test.select_dtypes('number')"
      ],
      "metadata": {
        "id": "XBKmyr6Yoknx"
      },
      "execution_count": null,
      "outputs": []
    },
    {
      "cell_type": "code",
      "source": [
        "def Agg(Feature):\n",
        "    for dataset in (train,test):\n",
        "        for key in ['child_age','id_facility_n']:\n",
        "            dataset[f'{Feature}_{key}_Mean'] = dataset[key].map(dict(train.groupby(key)[Feature].mean()))\n",
        "            dataset[f'{Feature}_{key}_Median'] = dataset[key].map(dict(train.groupby(key)[Feature].median()))\n",
        "            dataset[f'{Feature}_{key}_Quantile10'] = dataset[key].map(dict(train.groupby(key)[Feature].quantile(0.10)))\n",
        "            dataset[f'{Feature}_{key}_Quantile25'] = dataset[key].map(dict(train.groupby(key)[Feature].quantile(0.25)))\n",
        "            dataset[f'{Feature}_{key}_Quantile75'] = dataset[key].map(dict(train.groupby(key)[Feature].quantile(0.75)))\n",
        "            dataset[f'{Feature}_{key}_Quantile90'] = dataset[key].map(dict(train.groupby(key)[Feature].quantile(0.90)))\n",
        "            dataset[f'{Feature}_{key}_first'] = dataset[key].map(dict(train.groupby(key)[Feature].first()))\n",
        "            dataset[f'{Feature}_{key}_last'] = dataset[key].map(dict(train.groupby(key)[Feature].last()))\n",
        "            dataset[f'{Feature}_{key}_var'] = dataset[key].map(dict(train.groupby(key)[Feature].var()))\n",
        "            dataset[f'{Feature}_{key}_Std'] = dataset[key].map(dict(train.groupby(key)[Feature].std()))\n",
        "            dataset[f'{Feature}_{key}_Min'] = dataset[key].map(dict(train.groupby(key)[Feature].min()))\n",
        "            dataset[f'{Feature}_{key}_Max'] = dataset[key].map(dict(train.groupby(key)[Feature].max()))\n",
        "            dataset[f'{Feature}_{key}_Sum'] = dataset[key].map(dict(train.groupby(key)[Feature].sum()))\n",
        "            dataset[f'{Feature}_{key}_Skew'] = dataset[key].map(dict(train.groupby(key)[Feature].skew()))\n",
        "            dataset[f'{Feature}_{key}_sem'] = dataset[key].map(dict(train.groupby(key)[Feature].sem()))\n",
        "            dataset[f'{Feature}_{key}_cumsum'] = dataset[key].map(dict(train.groupby(key)[Feature].cumsum()))\n",
        "            \n",
        "Agg('target')\n"
      ],
      "metadata": {
        "id": "HGZeIcgspKMV"
      },
      "execution_count": null,
      "outputs": []
    },
    {
      "cell_type": "code",
      "source": [
        "#outliers\n",
        "outlier_list = []\n",
        "df_train=train\n",
        "\n",
        "for col in train :\n",
        "    \n",
        "    temp_df = df_train[(df_train[col] > df_train[col].mean() + df_train[col].std() * 50) |\n",
        "                       (df_train[col] < df_train[col].mean() - df_train[col].std() * 50) ]\n",
        "    if len(temp_df) >0 :\n",
        "        outliers = temp_df.index.to_list()\n",
        "        outlier_list.extend(outliers)\n",
        "        print(col, len(temp_df))\n",
        "\n",
        "outlier_list = list(set(outlier_list))\n",
        "print(len(outlier_list))"
      ],
      "metadata": {
        "id": "dy_IcXvdtCbH"
      },
      "execution_count": null,
      "outputs": []
    },
    {
      "cell_type": "code",
      "source": [
        "#outliers\n",
        "outlier_list = []\n",
        "df_train=test\n",
        "\n",
        "for col in test :\n",
        "    \n",
        "    temp_df = df_train[(df_train[col] > df_train[col].mean() + df_train[col].std() * 50) |\n",
        "                       (df_train[col] < df_train[col].mean() - df_train[col].std() * 50) ]\n",
        "    if len(temp_df) >0 :\n",
        "        outliers = temp_df.index.to_list()\n",
        "        outlier_list.extend(outliers)\n",
        "        print(col, len(temp_df))\n",
        "\n",
        "outlier_list = list(set(outlier_list))\n",
        "print(len(outlier_list))"
      ],
      "metadata": {
        "id": "xiVx96WGNuRz"
      },
      "execution_count": null,
      "outputs": []
    },
    {
      "cell_type": "code",
      "source": [
        "df=test\n",
        "for col in df.columns:\n",
        "    if df[col].dtype=='float64': df[col] = df[col].astype('float32')\n",
        "    if df[col].dtype=='int64': df[col] = df[col].astype('int16')\n"
      ],
      "metadata": {
        "id": "NLeBFejjSl6_"
      },
      "execution_count": null,
      "outputs": []
    },
    {
      "cell_type": "code",
      "source": [
        "df=train\n",
        "for col in df.columns:\n",
        "    if df[col].dtype=='float64': df[col] = df[col].astype('float32')\n",
        "    if df[col].dtype=='int64': df[col] = df[col].astype('int16')"
      ],
      "metadata": {
        "id": "2W-MbOIOSFfN"
      },
      "execution_count": null,
      "outputs": []
    },
    {
      "cell_type": "code",
      "source": [
        "total=train.isnull().sum().sort_values(ascending=False)\n",
        "percent1=train.isnull().sum()/train.isnull().count()*100\n",
        "percent2=(round(percent1,1)).sort_values(ascending=False)\n",
        "missing_data=pd.concat([total,percent2],axis=1,keys=['total','%'])\n",
        "missing_data"
      ],
      "metadata": {
        "id": "YB2wA80rg7GU"
      },
      "execution_count": null,
      "outputs": []
    },
    {
      "cell_type": "code",
      "source": [
        "total=test.isnull().sum().sort_values(ascending=False)\n",
        "percent1=test.isnull().sum()/test.isnull().count()*100\n",
        "percent2=(round(percent1,1)).sort_values(ascending=False)\n",
        "missing_data=pd.concat([total,percent2],axis=1,keys=['total','%'])\n",
        "missing_data"
      ],
      "metadata": {
        "id": "bpaiCWWgg8sp"
      },
      "execution_count": null,
      "outputs": []
    },
    {
      "cell_type": "code",
      "source": [
        "train=train.fillna(train.median())\n",
        "test=test.fillna(test.median())"
      ],
      "metadata": {
        "id": "KppQwDwvbxYi"
      },
      "execution_count": null,
      "outputs": []
    },
    {
      "cell_type": "markdown",
      "source": [
        "## Evaluating model"
      ],
      "metadata": {
        "id": "mWo5W9NXu-Q7"
      }
    },
    {
      "cell_type": "code",
      "source": [
        "num_cols = list(set(test.select_dtypes('number')).intersection(train.select_dtypes('number')))\n",
        "y = train.target\n",
        "X = train[num_cols]\n",
        "X_train, X_test, y_train, y_test = train_test_split(X, y, test_size = 0.2, random_state = 0)\n",
        "model=SGDRegressor()\n",
        "model.fit(X_train,y_train)\n",
        "y_pred=model.predict(X_test)\n",
        "\n",
        "    \n",
        "print(mean_squared_error(y_test, y_pred, squared=False))"
      ],
      "metadata": {
        "id": "N2u7sY8JdEEI"
      },
      "execution_count": null,
      "outputs": []
    },
    {
      "cell_type": "markdown",
      "source": [
        "## Prepare model and some previews "
      ],
      "metadata": {
        "id": "qsDR5hfGvZnX"
      }
    },
    {
      "cell_type": "code",
      "source": [
        "eli5.show_weights(model, feature_names=num_cols)"
      ],
      "metadata": {
        "id": "AXIGyA662uXe"
      },
      "execution_count": null,
      "outputs": []
    },
    {
      "cell_type": "code",
      "source": [
        "eli5.show_prediction(model, X_test.iloc[1], feature_names=num_cols, show_feature_values=True, top = 5)"
      ],
      "metadata": {
        "id": "NGithn9Nz_2Z"
      },
      "execution_count": null,
      "outputs": []
    },
    {
      "cell_type": "code",
      "source": [
        "eli5.explain_prediction_df(estimator=model, doc=X_test.iloc[1], top = 15)"
      ],
      "metadata": {
        "id": "YQkFJ22s8Ny3"
      },
      "execution_count": null,
      "outputs": []
    },
    {
      "cell_type": "code",
      "source": [
        "# Make predictions on the test set\n",
        "preds = model.predict(test[num_cols])\n",
        "preds"
      ],
      "metadata": {
        "id": "P2uKohld5zJX"
      },
      "execution_count": null,
      "outputs": []
    },
    {
      "cell_type": "code",
      "source": [
        "# Get the top five features for each predictions\n",
        "top_predictors = []\n",
        "for i in range(test.shape[0]):\n",
        "  predictors = eli5.explain_prediction_df(estimator=model, doc=test[num_cols].iloc[i], top = 15)\n",
        "  top_predictors.append(predictors.feature.tolist())"
      ],
      "metadata": {
        "id": "947Ed1NQ7UuL"
      },
      "execution_count": null,
      "outputs": []
    },
    {
      "cell_type": "markdown",
      "source": [
        "## Submission"
      ],
      "metadata": {
        "id": "-stxGS_pv3dF"
      }
    },
    {
      "cell_type": "code",
      "source": [
        "# Submission file preparation\n",
        "predictors = pd.DataFrame(top_predictors, columns = ['feature_' + str(i) for i in range(1,16)])\n",
        "predictors['target'] = preds\n",
        "predictors['child_id'] = ID\n",
        "predictors = predictors[ss.columns.tolist()]\n",
        "predictors.head()"
      ],
      "metadata": {
        "id": "x3ZD4FRF9Qe8"
      },
      "execution_count": null,
      "outputs": []
    },
    {
      "cell_type": "code",
      "source": [
        "predictors.to_csv('sgd.csv', index = False)"
      ],
      "metadata": {
        "id": "6hQO5oQ49Qb8"
      },
      "execution_count": null,
      "outputs": []
    }
  ]
}